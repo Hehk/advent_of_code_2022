{
 "cells": [
  {
   "cell_type": "code",
   "execution_count": 2,
   "metadata": {},
   "outputs": [],
   "source": [
    "import torch"
   ]
  },
  {
   "cell_type": "code",
   "execution_count": 4,
   "metadata": {},
   "outputs": [],
   "source": [
    "def load_file(path):\n",
    "  with open(path) as f:\n",
    "    return f.read().strip()"
   ]
  },
  {
   "cell_type": "code",
   "execution_count": 7,
   "metadata": {},
   "outputs": [],
   "source": [
    "def parse_line(line):\n",
    "  return [int(c) for c in line]\n",
    "\n",
    "def parse_file(content):\n",
    "  lines = content.split('\\n')   \n",
    "  trees = [parse_line(line) for line in lines]\n",
    "  return torch.tensor(trees)"
   ]
  },
  {
   "cell_type": "code",
   "execution_count": 12,
   "metadata": {},
   "outputs": [
    {
     "data": {
      "text/plain": [
       "tensor([[3, 0, 3, 7, 3],\n",
       "        [2, 5, 5, 1, 2],\n",
       "        [6, 5, 3, 3, 2],\n",
       "        [3, 3, 5, 4, 9],\n",
       "        [3, 5, 3, 9, 0]])"
      ]
     },
     "execution_count": 12,
     "metadata": {},
     "output_type": "execute_result"
    }
   ],
   "source": [
    "x = parse_file(load_file('example.txt'))\n",
    "x"
   ]
  },
  {
   "cell_type": "code",
   "execution_count": 16,
   "metadata": {},
   "outputs": [
    {
     "data": {
      "text/plain": [
       "tensor([[0, 0, 3, 7, 3],\n",
       "        [0, 5, 5, 1, 2],\n",
       "        [0, 5, 3, 3, 2],\n",
       "        [0, 3, 5, 4, 9],\n",
       "        [0, 5, 3, 9, 0]])"
      ]
     },
     "execution_count": 16,
     "metadata": {},
     "output_type": "execute_result"
    }
   ],
   "source": [
    "x.roll(1, 1)\n",
    "x[:,0] = 0\n",
    "x"
   ]
  },
  {
   "cell_type": "code",
   "execution_count": 52,
   "metadata": {},
   "outputs": [],
   "source": [
    "def get_visible(Trees):\n",
    "  Trees = Trees.clone()\n",
    "  VisibleTrees = torch.zeros(Trees.shape)\n",
    "\n",
    "  for col in range(Trees.shape[0]):\n",
    "    for row in range(Trees.shape[1]):\n",
    "      tree = Trees[row, col]\n",
    "      leftTrees = Trees[row, :col] >= tree\n",
    "      rightTrees = Trees[row, col+1:] >= tree\n",
    "      downTrees = Trees[row+1:, col] >= tree\n",
    "      upTrees = Trees[:row, col] >= tree\n",
    "      isVisible = leftTrees.sum() == 0 or rightTrees.sum() == 0 or downTrees.sum() == 0 or upTrees.sum() == 0\n",
    "      VisibleTrees[row, col] = isVisible\n",
    "\n",
    "  return VisibleTrees"
   ]
  },
  {
   "cell_type": "code",
   "execution_count": 53,
   "metadata": {},
   "outputs": [
    {
     "name": "stdout",
     "output_type": "stream",
     "text": [
      "tensor([[2, 2, 2,  ..., 0, 4, 0],\n",
      "        [1, 1, 0,  ..., 0, 0, 1],\n",
      "        [1, 3, 0,  ..., 0, 3, 3],\n",
      "        ...,\n",
      "        [0, 3, 0,  ..., 0, 0, 2],\n",
      "        [4, 0, 4,  ..., 4, 3, 0],\n",
      "        [3, 2, 4,  ..., 1, 3, 2]])\n",
      "tensor([[1., 1., 1.,  ..., 1., 1., 1.],\n",
      "        [1., 0., 0.,  ..., 0., 0., 1.],\n",
      "        [1., 1., 0.,  ..., 0., 0., 1.],\n",
      "        ...,\n",
      "        [1., 1., 0.,  ..., 0., 0., 1.],\n",
      "        [1., 0., 0.,  ..., 1., 1., 1.],\n",
      "        [1., 1., 1.,  ..., 1., 1., 1.]])\n"
     ]
    },
    {
     "data": {
      "text/plain": [
       "tensor(1533.)"
      ]
     },
     "execution_count": 53,
     "metadata": {},
     "output_type": "execute_result"
    }
   ],
   "source": [
    "X = parse_file(load_file(\"input.txt\"))\n",
    "print(X)\n",
    "V = get_visible(X)\n",
    "print(V)\n",
    "V.sum()"
   ]
  },
  {
   "cell_type": "code",
   "execution_count": 41,
   "metadata": {},
   "outputs": [
    {
     "name": "stdout",
     "output_type": "stream",
     "text": [
      "tensor(5)\n"
     ]
    },
    {
     "data": {
      "text/plain": [
       "tensor([False, False, False])"
      ]
     },
     "execution_count": 41,
     "metadata": {},
     "output_type": "execute_result"
    }
   ],
   "source": [
    "print(X[1,1])\n",
    "X[1, 2:] > X[1, 1]"
   ]
  },
  {
   "cell_type": "code",
   "execution_count": 90,
   "metadata": {},
   "outputs": [],
   "source": [
    "def get_score(tree, v):\n",
    "  blocking_trees = v >= tree\n",
    "  if blocking_trees.sum() == 0:\n",
    "    return len(blocking_trees)\n",
    "  return torch.nonzero(v >= tree)[0][0] + 1\n",
    "\n",
    "def get_scenic_score(Trees):\n",
    "  Trees = Trees.clone()\n",
    "  TreeScores = torch.zeros(Trees.shape)\n",
    "  for col in range(Trees.shape[0]):\n",
    "    for row in range(Trees.shape[1]):\n",
    "      tree = Trees[row, col]\n",
    "      leftTrees = Trees[row, :col].flip(0)\n",
    "      rightTrees = Trees[row, col+1:]\n",
    "      downTrees = Trees[row+1:, col]\n",
    "      upTrees = Trees[:row, col].flip(0)\n",
    "\n",
    "      score = get_score(tree, rightTrees) * get_score(tree, leftTrees) * get_score(tree, downTrees) * get_score(tree, upTrees)\n",
    "      TreeScores[row, col] = score\n",
    "      \n",
    "  return TreeScores"
   ]
  },
  {
   "cell_type": "code",
   "execution_count": 92,
   "metadata": {},
   "outputs": [
    {
     "data": {
      "text/plain": [
       "tensor(8.)"
      ]
     },
     "execution_count": 92,
     "metadata": {},
     "output_type": "execute_result"
    }
   ],
   "source": [
    "X = parse_file(load_file(\"example.txt\"))\n",
    "Scores = get_scenic_score(X)\n",
    "print(Scores)\n",
    "Scores.max()"
   ]
  }
 ],
 "metadata": {
  "kernelspec": {
   "display_name": "Python 3.10.8 64-bit",
   "language": "python",
   "name": "python3"
  },
  "language_info": {
   "codemirror_mode": {
    "name": "ipython",
    "version": 3
   },
   "file_extension": ".py",
   "mimetype": "text/x-python",
   "name": "python",
   "nbconvert_exporter": "python",
   "pygments_lexer": "ipython3",
   "version": "3.10.8"
  },
  "orig_nbformat": 4,
  "vscode": {
   "interpreter": {
    "hash": "eda7e54fe21129b67f77862937907ee926f057597a3e2fa1e18ac955e40912b3"
   }
  }
 },
 "nbformat": 4,
 "nbformat_minor": 2
}
