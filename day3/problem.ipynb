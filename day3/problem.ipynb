{
 "cells": [
  {
   "cell_type": "code",
   "execution_count": 20,
   "metadata": {},
   "outputs": [],
   "source": [
    "def load_file(f):\n",
    "    with open(f) as f:\n",
    "        return f.read().strip().splitlines()"
   ]
  },
  {
   "cell_type": "code",
   "execution_count": 21,
   "metadata": {},
   "outputs": [],
   "source": [
    "def parse_file(file):\n",
    "  return [parse_line(line) for line in load_file(file)]"
   ]
  },
  {
   "cell_type": "code",
   "execution_count": 25,
   "metadata": {},
   "outputs": [],
   "source": [
    "def parse_line(line):\n",
    "  nums = list(map(parse_char, list(line)))\n",
    "  half = len(nums)//2\n",
    "  return [nums[:half], nums[half:]]\n"
   ]
  },
  {
   "cell_type": "code",
   "execution_count": 23,
   "metadata": {},
   "outputs": [
    {
     "data": {
      "text/plain": [
       "[1, 2, 3]"
      ]
     },
     "execution_count": 23,
     "metadata": {},
     "output_type": "execute_result"
    }
   ],
   "source": [
    "def parse_char (char):\n",
    "  code = ord(char)\n",
    "  if code < 97:\n",
    "    return code - 38\n",
    "  else:\n",
    "    return code - 96\n",
    "\n",
    "list(map(parse_char, list(\"abc\")))"
   ]
  },
  {
   "cell_type": "code",
   "execution_count": 26,
   "metadata": {},
   "outputs": [
    {
     "data": {
      "text/plain": [
       "[[[22, 36, 18, 23, 16, 49, 20, 23, 36, 7, 49, 18],\n",
       "  [8, 3, 19, 32, 39, 39, 6, 32, 32, 8, 32, 16]],\n",
       " [[10, 17, 34, 44, 40, 17, 44, 10, 17, 26, 10, 33, 30, 38, 33, 38],\n",
       "  [18, 19, 32, 39, 6, 32, 52, 45, 18, 38, 18, 32, 52, 19, 45, 38]],\n",
       " [[42, 13, 13, 4, 26, 17, 42, 18, 48], [22, 42, 23, 23, 46, 49, 28, 23, 7]],\n",
       " [[23, 39, 17, 22, 38, 39, 52, 34, 8, 34, 39, 22, 23, 38, 34],\n",
       "  [10, 2, 22, 3, 10, 14, 14, 45, 28, 14, 22, 46, 43, 32, 14]],\n",
       " [[20, 20, 7, 36, 20, 44, 33, 36], [43, 3, 20, 46, 52, 20, 52, 46]],\n",
       " [[29, 18, 52, 19, 36, 19, 42, 42, 52, 19, 33, 26],\n",
       "  [23, 23, 19, 38, 23, 38, 13, 16, 23, 39, 30, 23]]]"
      ]
     },
     "execution_count": 26,
     "metadata": {},
     "output_type": "execute_result"
    }
   ],
   "source": [
    "parse_file(\"example.txt\")"
   ]
  },
  {
   "cell_type": "code",
   "execution_count": 39,
   "metadata": {},
   "outputs": [],
   "source": [
    "x = parse_file(\"example.txt\")"
   ]
  },
  {
   "cell_type": "code",
   "execution_count": 42,
   "metadata": {},
   "outputs": [],
   "source": [
    "import torch\n",
    "x = torch.zeros(len(x), 52)"
   ]
  },
  {
   "cell_type": "code",
   "execution_count": 70,
   "metadata": {},
   "outputs": [],
   "source": [
    "def handle_rucksack (a, b):\n",
    "  bag_a = torch.zeros(52)\n",
    "  bag_b = torch.zeros(52)\n",
    "  for i in a:\n",
    "    bag_a[i - 1] += 1\n",
    "  for i in b:\n",
    "    bag_b[i - 1] += 1\n",
    "  return torch.nonzero(bag_a * bag_b) + 1\n",
    "\n",
    "def get_score(data):\n",
    "  score = 0\n",
    "  for (a, b) in data:\n",
    "    score += handle_rucksack(a, b).item()\n",
    "  return score\n",
    "  "
   ]
  },
  {
   "cell_type": "code",
   "execution_count": 72,
   "metadata": {},
   "outputs": [
    {
     "data": {
      "text/plain": [
       "8176"
      ]
     },
     "execution_count": 72,
     "metadata": {},
     "output_type": "execute_result"
    }
   ],
   "source": [
    "get_score(parse_file(\"input.txt\"))"
   ]
  },
  {
   "cell_type": "code",
   "execution_count": 77,
   "metadata": {},
   "outputs": [],
   "source": [
    "def parse_file_2(file):\n",
    "  data = load_file(file)\n",
    "  lines = [list(map(parse_char, list(line))) for line in data]\n",
    "  groups = [lines[i:i+3] for i in range(0, len(lines), 3)]\n",
    "  return groups\n"
   ]
  },
  {
   "cell_type": "code",
   "execution_count": 79,
   "metadata": {},
   "outputs": [
    {
     "data": {
      "text/plain": [
       "[[22,\n",
       "  36,\n",
       "  18,\n",
       "  23,\n",
       "  16,\n",
       "  49,\n",
       "  20,\n",
       "  23,\n",
       "  36,\n",
       "  7,\n",
       "  49,\n",
       "  18,\n",
       "  8,\n",
       "  3,\n",
       "  19,\n",
       "  32,\n",
       "  39,\n",
       "  39,\n",
       "  6,\n",
       "  32,\n",
       "  32,\n",
       "  8,\n",
       "  32,\n",
       "  16],\n",
       " [10,\n",
       "  17,\n",
       "  34,\n",
       "  44,\n",
       "  40,\n",
       "  17,\n",
       "  44,\n",
       "  10,\n",
       "  17,\n",
       "  26,\n",
       "  10,\n",
       "  33,\n",
       "  30,\n",
       "  38,\n",
       "  33,\n",
       "  38,\n",
       "  18,\n",
       "  19,\n",
       "  32,\n",
       "  39,\n",
       "  6,\n",
       "  32,\n",
       "  52,\n",
       "  45,\n",
       "  18,\n",
       "  38,\n",
       "  18,\n",
       "  32,\n",
       "  52,\n",
       "  19,\n",
       "  45,\n",
       "  38],\n",
       " [42, 13, 13, 4, 26, 17, 42, 18, 48, 22, 42, 23, 23, 46, 49, 28, 23, 7]]"
      ]
     },
     "execution_count": 79,
     "metadata": {},
     "output_type": "execute_result"
    }
   ],
   "source": [
    "parse_file_2(\"example2.txt\")[0]\n"
   ]
  },
  {
   "cell_type": "code",
   "execution_count": 83,
   "metadata": {},
   "outputs": [],
   "source": [
    "def handle_rucksack_2 (a, b, c):\n",
    "  bag_a = torch.zeros(52)\n",
    "  bag_b = torch.zeros(52)\n",
    "  bag_c = torch.zeros(52)\n",
    "  for i in a:\n",
    "    bag_a[i - 1] += 1\n",
    "  for i in b:\n",
    "    bag_b[i - 1] += 1\n",
    "  for i in c:\n",
    "    bag_c[i - 1] += 1\n",
    "  return torch.nonzero(bag_a * bag_b * bag_c) + 1\n",
    "\n",
    "def get_score_2(data):\n",
    "  score = 0\n",
    "  for (a, b, c) in data:\n",
    "    score += handle_rucksack_2(a, b, c).item()\n",
    "  return score"
   ]
  },
  {
   "cell_type": "code",
   "execution_count": 85,
   "metadata": {},
   "outputs": [
    {
     "data": {
      "text/plain": [
       "70"
      ]
     },
     "execution_count": 85,
     "metadata": {},
     "output_type": "execute_result"
    }
   ],
   "source": [
    "get_score_2(parse_file_2(\"input.txt\"))"
   ]
  }
 ],
 "metadata": {
  "kernelspec": {
   "display_name": "Python 3.10.8 64-bit",
   "language": "python",
   "name": "python3"
  },
  "language_info": {
   "codemirror_mode": {
    "name": "ipython",
    "version": 3
   },
   "file_extension": ".py",
   "mimetype": "text/x-python",
   "name": "python",
   "nbconvert_exporter": "python",
   "pygments_lexer": "ipython3",
   "version": "3.10.8"
  },
  "orig_nbformat": 4,
  "vscode": {
   "interpreter": {
    "hash": "eda7e54fe21129b67f77862937907ee926f057597a3e2fa1e18ac955e40912b3"
   }
  }
 },
 "nbformat": 4,
 "nbformat_minor": 2
}
