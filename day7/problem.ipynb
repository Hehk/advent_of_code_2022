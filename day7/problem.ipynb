{
 "cells": [
  {
   "cell_type": "code",
   "execution_count": 2,
   "metadata": {},
   "outputs": [],
   "source": [
    "def load_file(filename):\n",
    "    with open(filename, 'r') as f:\n",
    "        return f.read().strip().splitlines()"
   ]
  },
  {
   "cell_type": "code",
   "execution_count": 3,
   "metadata": {},
   "outputs": [
    {
     "data": {
      "text/plain": [
       "['$ cd /',\n",
       " '$ ls',\n",
       " 'dir a',\n",
       " '14848514 b.txt',\n",
       " '8504156 c.dat',\n",
       " 'dir d',\n",
       " '$ cd a',\n",
       " '$ ls',\n",
       " 'dir e',\n",
       " '29116 f',\n",
       " '2557 g',\n",
       " '62596 h.lst',\n",
       " '$ cd e',\n",
       " '$ ls',\n",
       " '584 i',\n",
       " '$ cd ..',\n",
       " '$ cd ..',\n",
       " '$ cd d',\n",
       " '$ ls',\n",
       " '4060174 j',\n",
       " '8033020 d.log',\n",
       " '5626152 d.ext',\n",
       " '7214296 k']"
      ]
     },
     "execution_count": 3,
     "metadata": {},
     "output_type": "execute_result"
    }
   ],
   "source": [
    "load_file(\"example.txt\")"
   ]
  },
  {
   "cell_type": "code",
   "execution_count": 4,
   "metadata": {},
   "outputs": [],
   "source": [
    "def parse_line(line):\n",
    "  if (line.find('$ ') == 0):\n",
    "    rest = line[2:]\n",
    "    if (rest.find('cd ') == 0):\n",
    "      return dict(type=\"change_directory\", variable=rest[3:])\n",
    "    elif (rest.find('ls') == 0):\n",
    "      return dict(type=\"list_directory\")\n",
    "    else:\n",
    "      print(\"INVALID COMMAND\", line)\n",
    "  else:\n",
    "    if (line.find('dir') == 0):\n",
    "      [_, name] = line.split(' ')\n",
    "      return dict(type=\"directory\", name=name)\n",
    "    else:\n",
    "      [size, name] = line.split(' ')\n",
    "      return dict(type=\"file\", size=int(size), name=name)"
   ]
  },
  {
   "cell_type": "code",
   "execution_count": 5,
   "metadata": {},
   "outputs": [
    {
     "data": {
      "text/plain": [
       "[{'type': 'change_directory', 'variable': '/'},\n",
       " {'type': 'list_directory'},\n",
       " {'type': 'directory', 'name': 'a'},\n",
       " {'type': 'file', 'size': 14848514, 'name': 'b.txt'},\n",
       " {'type': 'file', 'size': 8504156, 'name': 'c.dat'},\n",
       " {'type': 'directory', 'name': 'd'},\n",
       " {'type': 'change_directory', 'variable': 'a'},\n",
       " {'type': 'list_directory'},\n",
       " {'type': 'directory', 'name': 'e'},\n",
       " {'type': 'file', 'size': 29116, 'name': 'f'},\n",
       " {'type': 'file', 'size': 2557, 'name': 'g'},\n",
       " {'type': 'file', 'size': 62596, 'name': 'h.lst'},\n",
       " {'type': 'change_directory', 'variable': 'e'},\n",
       " {'type': 'list_directory'},\n",
       " {'type': 'file', 'size': 584, 'name': 'i'},\n",
       " {'type': 'change_directory', 'variable': '..'},\n",
       " {'type': 'change_directory', 'variable': '..'},\n",
       " {'type': 'change_directory', 'variable': 'd'},\n",
       " {'type': 'list_directory'},\n",
       " {'type': 'file', 'size': 4060174, 'name': 'j'},\n",
       " {'type': 'file', 'size': 8033020, 'name': 'd.log'},\n",
       " {'type': 'file', 'size': 5626152, 'name': 'd.ext'},\n",
       " {'type': 'file', 'size': 7214296, 'name': 'k'}]"
      ]
     },
     "execution_count": 5,
     "metadata": {},
     "output_type": "execute_result"
    }
   ],
   "source": [
    "[parse_line(line) for line in load_file(\"example.txt\")]"
   ]
  },
  {
   "cell_type": "code",
   "execution_count": 6,
   "metadata": {},
   "outputs": [],
   "source": [
    "def create_tree(lines):\n",
    "  root = dict(type=\"directory\", name=\"root\", children=[], parent=None)\n",
    "  current = root\n",
    "  for line in lines:\n",
    "    parsed = parse_line(line)\n",
    "    if (parsed[\"type\"] == \"change_directory\"):\n",
    "      if (parsed[\"variable\"] == \"..\"):\n",
    "        current = current[\"parent\"]\n",
    "      else:\n",
    "        current = [child for child in current[\"children\"] if child[\"name\"] == parsed[\"variable\"]][0]\n",
    "    elif (parsed[\"type\"] == \"directory\"):\n",
    "      current[\"children\"].append(dict(type=\"directory\", name=parsed[\"name\"], children=[], parent=current))\n",
    "    elif (parsed[\"type\"] == \"file\"):\n",
    "      current[\"children\"].append(parsed)\n",
    "  return root"
   ]
  },
  {
   "cell_type": "code",
   "execution_count": 7,
   "metadata": {},
   "outputs": [
    {
     "data": {
      "text/plain": [
       "{'type': 'directory',\n",
       " 'name': 'root',\n",
       " 'children': [{'type': 'directory',\n",
       "   'name': 'a',\n",
       "   'children': [{'type': 'directory',\n",
       "     'name': 'e',\n",
       "     'children': [{'type': 'file', 'size': 584, 'name': 'i'}],\n",
       "     'parent': {...}},\n",
       "    {'type': 'file', 'size': 29116, 'name': 'f'},\n",
       "    {'type': 'file', 'size': 2557, 'name': 'g'},\n",
       "    {'type': 'file', 'size': 62596, 'name': 'h.lst'}],\n",
       "   'parent': {...}},\n",
       "  {'type': 'file', 'size': 14848514, 'name': 'b.txt'},\n",
       "  {'type': 'file', 'size': 8504156, 'name': 'c.dat'},\n",
       "  {'type': 'directory',\n",
       "   'name': 'd',\n",
       "   'children': [{'type': 'file', 'size': 4060174, 'name': 'j'},\n",
       "    {'type': 'file', 'size': 8033020, 'name': 'd.log'},\n",
       "    {'type': 'file', 'size': 5626152, 'name': 'd.ext'},\n",
       "    {'type': 'file', 'size': 7214296, 'name': 'k'}],\n",
       "   'parent': {...}}],\n",
       " 'parent': None}"
      ]
     },
     "execution_count": 7,
     "metadata": {},
     "output_type": "execute_result"
    }
   ],
   "source": [
    "create_tree(load_file(\"example.txt\")[1:])"
   ]
  },
  {
   "cell_type": "code",
   "execution_count": 13,
   "metadata": {},
   "outputs": [],
   "source": [
    "def get_directory_size(directory):\n",
    "  return sum([child[\"size\"] for child in directory[\"children\"] if child[\"type\"] == \"file\"])\n",
    "\n",
    "def get_sizes(directory):\n",
    "  sizes = []\n",
    "  indirect_size = 0\n",
    "  for child in directory[\"children\"]:\n",
    "    if (child[\"type\"] == \"directory\"):\n",
    "      sizes += get_sizes(child)\n",
    "      indirect_size += sizes[-1][\"size\"]\n",
    "  size = get_directory_size(directory) + indirect_size\n",
    "  sizes.append(dict(name=directory[\"name\"], size=size))\n",
    "  return sizes"
   ]
  },
  {
   "cell_type": "code",
   "execution_count": 14,
   "metadata": {},
   "outputs": [
    {
     "data": {
      "text/plain": [
       "[{'name': 'e', 'size': 584},\n",
       " {'name': 'a', 'size': 94853},\n",
       " {'name': 'd', 'size': 24933642},\n",
       " {'name': 'root', 'size': 48381165}]"
      ]
     },
     "execution_count": 14,
     "metadata": {},
     "output_type": "execute_result"
    }
   ],
   "source": [
    "get_sizes(create_tree(load_file(\"example.txt\")[1:]))"
   ]
  },
  {
   "cell_type": "code",
   "execution_count": 15,
   "metadata": {},
   "outputs": [
    {
     "data": {
      "text/plain": [
       "1845346"
      ]
     },
     "execution_count": 15,
     "metadata": {},
     "output_type": "execute_result"
    }
   ],
   "source": [
    "dirs = [d for d in get_sizes(create_tree(load_file(\"input.txt\")[1:])) if d[\"size\"] <= 100000]\n",
    "sum([d[\"size\"] for d in dirs])"
   ]
  },
  {
   "cell_type": "code",
   "execution_count": 16,
   "metadata": {},
   "outputs": [],
   "source": [
    "def which_to_delete(sizes):\n",
    "  max_directory = max(sizes, key=lambda d: d[\"size\"]) \n",
    "  total_space = 70000000\n",
    "  needed_space = 30000000\n",
    "  free_space = total_space - max_directory[\"size\"]\n",
    "  space_to_delete = needed_space - free_space\n",
    "  print(free_space, space_to_delete)\n",
    "\n",
    "  large_enough_dirs = [d for d in sizes if d[\"size\"] >= space_to_delete]\n",
    "  return min(large_enough_dirs, key=lambda d: d[\"size\"])"
   ]
  },
  {
   "cell_type": "code",
   "execution_count": 17,
   "metadata": {},
   "outputs": [
    {
     "name": "stdout",
     "output_type": "stream",
     "text": [
      "26370984 30000000\n"
     ]
    },
    {
     "data": {
      "text/plain": [
       "{'name': 'lfnhb', 'size': 3636703}"
      ]
     },
     "execution_count": 17,
     "metadata": {},
     "output_type": "execute_result"
    }
   ],
   "source": [
    "which_to_delete(get_sizes(create_tree(load_file(\"input.txt\")[1:])))"
   ]
  },
  {
   "cell_type": "code",
   "execution_count": null,
   "metadata": {},
   "outputs": [],
   "source": []
  }
 ],
 "metadata": {
  "kernelspec": {
   "display_name": "Python 3.10.8 64-bit",
   "language": "python",
   "name": "python3"
  },
  "language_info": {
   "codemirror_mode": {
    "name": "ipython",
    "version": 3
   },
   "file_extension": ".py",
   "mimetype": "text/x-python",
   "name": "python",
   "nbconvert_exporter": "python",
   "pygments_lexer": "ipython3",
   "version": "3.10.8"
  },
  "orig_nbformat": 4,
  "vscode": {
   "interpreter": {
    "hash": "eda7e54fe21129b67f77862937907ee926f057597a3e2fa1e18ac955e40912b3"
   }
  }
 },
 "nbformat": 4,
 "nbformat_minor": 2
}
