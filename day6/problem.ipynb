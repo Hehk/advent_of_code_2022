{
 "cells": [
  {
   "cell_type": "code",
   "execution_count": 2,
   "metadata": {},
   "outputs": [],
   "source": [
    "import torch"
   ]
  },
  {
   "cell_type": "code",
   "execution_count": 5,
   "metadata": {},
   "outputs": [],
   "source": [
    "example_1 = \"bvwbjplbgvbhsrlpgdmjqwftvncz\"\n",
    "example_2 = \"nppdvjthqldpwncqszvftbrmjlhg\"\n",
    "example_3 = \"nznrnfrfntjfmvfwmzdfjlvtqnbhcprsg\"\n",
    "example_4 = \"zcfzfwzzqfrljwzlrfnpqdbhtmscgvjw\"\n"
   ]
  },
  {
   "cell_type": "code",
   "execution_count": 59,
   "metadata": {},
   "outputs": [],
   "source": [
    "def get_marker(example):\n",
    "  chars = list(example)\n",
    "  for i in range(len(chars) - 4):\n",
    "    slice = chars[i:i+4]\n",
    "    x = {}\n",
    "    for c in slice: x[c] = x.get(c, 0) + 1\n",
    "      \n",
    "    if len(x) == 4:\n",
    "      return i + 4 \n"
   ]
  },
  {
   "cell_type": "code",
   "execution_count": 63,
   "metadata": {},
   "outputs": [],
   "source": [
    "def load_file(filename):\n",
    "  with open(filename) as f:\n",
    "    return f.read().strip()"
   ]
  },
  {
   "cell_type": "code",
   "execution_count": 62,
   "metadata": {},
   "outputs": [
    {
     "data": {
      "text/plain": [
       "10"
      ]
     },
     "execution_count": 62,
     "metadata": {},
     "output_type": "execute_result"
    }
   ],
   "source": [
    "get_marker(example_3)"
   ]
  },
  {
   "cell_type": "code",
   "execution_count": 64,
   "metadata": {},
   "outputs": [
    {
     "data": {
      "text/plain": [
       "1953"
      ]
     },
     "execution_count": 64,
     "metadata": {},
     "output_type": "execute_result"
    }
   ],
   "source": [
    "get_marker(load_file(\"input.txt\"))"
   ]
  },
  {
   "cell_type": "code",
   "execution_count": 75,
   "metadata": {},
   "outputs": [],
   "source": [
    "def get_marker(example, packet_size=4):\n",
    "  for i in range(len(example) - packet_size):\n",
    "    x = { c:1 for c in example[i:i+packet_size]}\n",
    "      \n",
    "    if len(x) == packet_size:\n",
    "      return i + packet_size"
   ]
  },
  {
   "cell_type": "code",
   "execution_count": 76,
   "metadata": {},
   "outputs": [
    {
     "data": {
      "text/plain": [
       "2301"
      ]
     },
     "execution_count": 76,
     "metadata": {},
     "output_type": "execute_result"
    }
   ],
   "source": [
    "get_marker(load_file(\"input.txt\"), packet_size=14)"
   ]
  },
  {
   "cell_type": "code",
   "execution_count": null,
   "metadata": {},
   "outputs": [],
   "source": []
  }
 ],
 "metadata": {
  "kernelspec": {
   "display_name": "Python 3.10.8 64-bit",
   "language": "python",
   "name": "python3"
  },
  "language_info": {
   "codemirror_mode": {
    "name": "ipython",
    "version": 3
   },
   "file_extension": ".py",
   "mimetype": "text/x-python",
   "name": "python",
   "nbconvert_exporter": "python",
   "pygments_lexer": "ipython3",
   "version": "3.10.8"
  },
  "orig_nbformat": 4,
  "vscode": {
   "interpreter": {
    "hash": "eda7e54fe21129b67f77862937907ee926f057597a3e2fa1e18ac955e40912b3"
   }
  }
 },
 "nbformat": 4,
 "nbformat_minor": 2
}
