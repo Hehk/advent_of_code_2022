{
 "cells": [
  {
   "cell_type": "code",
   "execution_count": 16,
   "metadata": {},
   "outputs": [],
   "source": [
    "def load_file(filename):\n",
    "  with open(filename) as f:\n",
    "    raw = f.read()\n",
    "    [stacks, moves] = raw.split('\\n\\n')\n",
    "    return [stacks.split('\\n'), moves.strip().split('\\n')]"
   ]
  },
  {
   "cell_type": "code",
   "execution_count": 72,
   "metadata": {},
   "outputs": [],
   "source": [
    "import math\n",
    "import torch\n",
    "import re\n",
    "\n",
    "def parse_chunk(chunk):\n",
    "  if chunk.strip() == '':\n",
    "    return 0\n",
    "  char = chunk[1] \n",
    "  return ord(char)\n",
    "\n",
    "def parse_stack(stack):\n",
    "  chunks = []\n",
    "  for i in range(math.ceil(len(stack) / 4)):\n",
    "    chunks.append(stack[i*4:(i+1)*4])\n",
    "  return [parse_chunk(chunk) for chunk in chunks]\n",
    "  \n",
    "def parse_move(move):\n",
    "  regex = r\"move (\\d+) from (\\d+) to (\\d+)\"\n",
    "  matches = re.search(regex, move)\n",
    "  values = matches.groups()\n",
    "  return [int(x) for x in values]\n",
    "\n",
    "def parse_file(filename):\n",
    "  stacks, moves = load_file(filename)\n",
    "  stacks = torch.tensor([parse_stack(stack) for stack in stacks[:-1]])\n",
    "  stacks = torch.flip(stacks.T, [1]).numpy().tolist()\n",
    "  stacks = [list(filter(lambda x: x != 0, stack)) for stack in stacks]\n",
    "  moves = [parse_move(move) for move in moves]\n",
    "  return [stacks, moves]\n"
   ]
  },
  {
   "cell_type": "code",
   "execution_count": 73,
   "metadata": {},
   "outputs": [
    {
     "data": {
      "text/plain": [
       "[[[90, 78], [77, 67, 68], [80]], [[1, 2, 1], [3, 1, 3], [2, 2, 1], [1, 1, 2]]]"
      ]
     },
     "execution_count": 73,
     "metadata": {},
     "output_type": "execute_result"
    }
   ],
   "source": [
    "parse_file(\"example.txt\")"
   ]
  },
  {
   "cell_type": "code",
   "execution_count": 76,
   "metadata": {},
   "outputs": [],
   "source": [
    "def apply_move(X, move):\n",
    "  [n, from_stack, to_stack] = move\n",
    "  for _ in range(n):\n",
    "    X[to_stack - 1].append(X[from_stack - 1].pop())\n",
    "\n",
    "  return X"
   ]
  },
  {
   "cell_type": "code",
   "execution_count": 77,
   "metadata": {},
   "outputs": [
    {
     "data": {
      "text/plain": [
       "[[90, 78, 68], [77, 67], [80]]"
      ]
     },
     "execution_count": 77,
     "metadata": {},
     "output_type": "execute_result"
    }
   ],
   "source": [
    "x = parse_file(\"example.txt\")\n",
    "apply_move(x[0], x[1][0])"
   ]
  },
  {
   "cell_type": "code",
   "execution_count": 78,
   "metadata": {},
   "outputs": [],
   "source": [
    "def run_moves(X, moves):\n",
    "  for move in moves:\n",
    "    apply_move(X, move)\n",
    "  return X"
   ]
  },
  {
   "cell_type": "code",
   "execution_count": 80,
   "metadata": {},
   "outputs": [],
   "source": [
    "def get_answer(f):\n",
    "  stacks, moves = parse_file(f)\n",
    "  cols = run_moves(stacks, moves)\n",
    "  s = \"\"\n",
    "  for c in cols:\n",
    "    if len(c) == 0: continue\n",
    "    s += chr(c.pop())\n",
    "\n",
    "  return s"
   ]
  },
  {
   "cell_type": "code",
   "execution_count": 81,
   "metadata": {},
   "outputs": [
    {
     "data": {
      "text/plain": [
       "[[67], [77], [80, 68, 78, 90]]"
      ]
     },
     "execution_count": 81,
     "metadata": {},
     "output_type": "execute_result"
    }
   ],
   "source": [
    "[X, moves] = parse_file(\"example.txt\")\n",
    "run_moves(X, moves)"
   ]
  },
  {
   "cell_type": "code",
   "execution_count": 83,
   "metadata": {},
   "outputs": [
    {
     "data": {
      "text/plain": [
       "'CMZ'"
      ]
     },
     "execution_count": 83,
     "metadata": {},
     "output_type": "execute_result"
    }
   ],
   "source": [
    "get_answer(\"example.txt\")"
   ]
  },
  {
   "cell_type": "code",
   "execution_count": 84,
   "metadata": {},
   "outputs": [
    {
     "ename": "AttributeError",
     "evalue": "'NoneType' object has no attribute 'groups'",
     "output_type": "error",
     "traceback": [
      "\u001b[0;31m---------------------------------------------------------------------------\u001b[0m",
      "\u001b[0;31mAttributeError\u001b[0m                            Traceback (most recent call last)",
      "Cell \u001b[0;32mIn [84], line 1\u001b[0m\n\u001b[0;32m----> 1\u001b[0m get_answer(\u001b[39m\"\u001b[39;49m\u001b[39minput.txt\u001b[39;49m\u001b[39m\"\u001b[39;49m)\n",
      "Cell \u001b[0;32mIn [80], line 2\u001b[0m, in \u001b[0;36mget_answer\u001b[0;34m(f)\u001b[0m\n\u001b[1;32m      1\u001b[0m \u001b[39mdef\u001b[39;00m \u001b[39mget_answer\u001b[39m(f):\n\u001b[0;32m----> 2\u001b[0m   stacks, moves \u001b[39m=\u001b[39m parse_file(f)\n\u001b[1;32m      3\u001b[0m   cols \u001b[39m=\u001b[39m run_moves(stacks, moves)\n\u001b[1;32m      4\u001b[0m   s \u001b[39m=\u001b[39m \u001b[39m\"\u001b[39m\u001b[39m\"\u001b[39m\n",
      "Cell \u001b[0;32mIn [72], line 28\u001b[0m, in \u001b[0;36mparse_file\u001b[0;34m(filename)\u001b[0m\n\u001b[1;32m     26\u001b[0m stacks \u001b[39m=\u001b[39m torch\u001b[39m.\u001b[39mflip(stacks\u001b[39m.\u001b[39mT, [\u001b[39m1\u001b[39m])\u001b[39m.\u001b[39mnumpy()\u001b[39m.\u001b[39mtolist()\n\u001b[1;32m     27\u001b[0m stacks \u001b[39m=\u001b[39m [\u001b[39mlist\u001b[39m(\u001b[39mfilter\u001b[39m(\u001b[39mlambda\u001b[39;00m x: x \u001b[39m!=\u001b[39m \u001b[39m0\u001b[39m, stack)) \u001b[39mfor\u001b[39;00m stack \u001b[39min\u001b[39;00m stacks]\n\u001b[0;32m---> 28\u001b[0m moves \u001b[39m=\u001b[39m [parse_move(move) \u001b[39mfor\u001b[39;00m move \u001b[39min\u001b[39;00m moves]\n\u001b[1;32m     29\u001b[0m \u001b[39mreturn\u001b[39;00m [stacks, moves]\n",
      "Cell \u001b[0;32mIn [72], line 28\u001b[0m, in \u001b[0;36m<listcomp>\u001b[0;34m(.0)\u001b[0m\n\u001b[1;32m     26\u001b[0m stacks \u001b[39m=\u001b[39m torch\u001b[39m.\u001b[39mflip(stacks\u001b[39m.\u001b[39mT, [\u001b[39m1\u001b[39m])\u001b[39m.\u001b[39mnumpy()\u001b[39m.\u001b[39mtolist()\n\u001b[1;32m     27\u001b[0m stacks \u001b[39m=\u001b[39m [\u001b[39mlist\u001b[39m(\u001b[39mfilter\u001b[39m(\u001b[39mlambda\u001b[39;00m x: x \u001b[39m!=\u001b[39m \u001b[39m0\u001b[39m, stack)) \u001b[39mfor\u001b[39;00m stack \u001b[39min\u001b[39;00m stacks]\n\u001b[0;32m---> 28\u001b[0m moves \u001b[39m=\u001b[39m [parse_move(move) \u001b[39mfor\u001b[39;00m move \u001b[39min\u001b[39;00m moves]\n\u001b[1;32m     29\u001b[0m \u001b[39mreturn\u001b[39;00m [stacks, moves]\n",
      "Cell \u001b[0;32mIn [72], line 20\u001b[0m, in \u001b[0;36mparse_move\u001b[0;34m(move)\u001b[0m\n\u001b[1;32m     18\u001b[0m regex \u001b[39m=\u001b[39m \u001b[39mr\u001b[39m\u001b[39m\"\u001b[39m\u001b[39mmove (\u001b[39m\u001b[39m\\\u001b[39m\u001b[39md+) from (\u001b[39m\u001b[39m\\\u001b[39m\u001b[39md+) to (\u001b[39m\u001b[39m\\\u001b[39m\u001b[39md+)\u001b[39m\u001b[39m\"\u001b[39m\n\u001b[1;32m     19\u001b[0m matches \u001b[39m=\u001b[39m re\u001b[39m.\u001b[39msearch(regex, move)\n\u001b[0;32m---> 20\u001b[0m values \u001b[39m=\u001b[39m matches\u001b[39m.\u001b[39;49mgroups()\n\u001b[1;32m     21\u001b[0m \u001b[39mreturn\u001b[39;00m [\u001b[39mint\u001b[39m(x) \u001b[39mfor\u001b[39;00m x \u001b[39min\u001b[39;00m values]\n",
      "\u001b[0;31mAttributeError\u001b[0m: 'NoneType' object has no attribute 'groups'"
     ]
    }
   ],
   "source": [
    "get_answer(\"input.txt\")"
   ]
  }
 ],
 "metadata": {
  "kernelspec": {
   "display_name": "Python 3.10.8 64-bit",
   "language": "python",
   "name": "python3"
  },
  "language_info": {
   "codemirror_mode": {
    "name": "ipython",
    "version": 3
   },
   "file_extension": ".py",
   "mimetype": "text/x-python",
   "name": "python",
   "nbconvert_exporter": "python",
   "pygments_lexer": "ipython3",
   "version": "3.10.8"
  },
  "orig_nbformat": 4,
  "vscode": {
   "interpreter": {
    "hash": "eda7e54fe21129b67f77862937907ee926f057597a3e2fa1e18ac955e40912b3"
   }
  }
 },
 "nbformat": 4,
 "nbformat_minor": 2
}
