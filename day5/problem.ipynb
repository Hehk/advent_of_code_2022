{
 "cells": [
  {
   "cell_type": "code",
   "execution_count": 85,
   "metadata": {},
   "outputs": [],
   "source": [
    "def load_file(filename):\n",
    "  with open(filename) as f:\n",
    "    raw = f.read()\n",
    "    [stacks, moves] = raw.split('\\n\\n')\n",
    "    return [stacks.split('\\n'), moves.strip().split('\\n')]"
   ]
  },
  {
   "cell_type": "code",
   "execution_count": 72,
   "metadata": {},
   "outputs": [],
   "source": [
    "import math\n",
    "import torch\n",
    "import re\n",
    "\n",
    "def parse_chunk(chunk):\n",
    "  if chunk.strip() == '':\n",
    "    return 0\n",
    "  char = chunk[1] \n",
    "  return ord(char)\n",
    "\n",
    "def parse_stack(stack):\n",
    "  chunks = []\n",
    "  for i in range(math.ceil(len(stack) / 4)):\n",
    "    chunks.append(stack[i*4:(i+1)*4])\n",
    "  return [parse_chunk(chunk) for chunk in chunks]\n",
    "  \n",
    "def parse_move(move):\n",
    "  regex = r\"move (\\d+) from (\\d+) to (\\d+)\"\n",
    "  matches = re.search(regex, move)\n",
    "  values = matches.groups()\n",
    "  return [int(x) for x in values]\n",
    "\n",
    "def parse_file(filename):\n",
    "  stacks, moves = load_file(filename)\n",
    "  stacks = torch.tensor([parse_stack(stack) for stack in stacks[:-1]])\n",
    "  stacks = torch.flip(stacks.T, [1]).numpy().tolist()\n",
    "  stacks = [list(filter(lambda x: x != 0, stack)) for stack in stacks]\n",
    "  moves = [parse_move(move) for move in moves]\n",
    "  return [stacks, moves]\n"
   ]
  },
  {
   "cell_type": "code",
   "execution_count": 73,
   "metadata": {},
   "outputs": [
    {
     "data": {
      "text/plain": [
       "[[[90, 78], [77, 67, 68], [80]], [[1, 2, 1], [3, 1, 3], [2, 2, 1], [1, 1, 2]]]"
      ]
     },
     "execution_count": 73,
     "metadata": {},
     "output_type": "execute_result"
    }
   ],
   "source": [
    "parse_file(\"example.txt\")"
   ]
  },
  {
   "cell_type": "code",
   "execution_count": 76,
   "metadata": {},
   "outputs": [],
   "source": [
    "def apply_move(X, move):\n",
    "  [n, from_stack, to_stack] = move\n",
    "  for _ in range(n):\n",
    "    X[to_stack - 1].append(X[from_stack - 1].pop())\n",
    "\n",
    "  return X"
   ]
  },
  {
   "cell_type": "code",
   "execution_count": 77,
   "metadata": {},
   "outputs": [
    {
     "data": {
      "text/plain": [
       "[[90, 78, 68], [77, 67], [80]]"
      ]
     },
     "execution_count": 77,
     "metadata": {},
     "output_type": "execute_result"
    }
   ],
   "source": [
    "x = parse_file(\"example.txt\")\n",
    "apply_move(x[0], x[1][0])"
   ]
  },
  {
   "cell_type": "code",
   "execution_count": 78,
   "metadata": {},
   "outputs": [],
   "source": [
    "def run_moves(X, moves):\n",
    "  for move in moves:\n",
    "    apply_move(X, move)\n",
    "  return X"
   ]
  },
  {
   "cell_type": "code",
   "execution_count": 80,
   "metadata": {},
   "outputs": [],
   "source": [
    "def get_answer(f):\n",
    "  stacks, moves = parse_file(f)\n",
    "  cols = run_moves(stacks, moves)\n",
    "  s = \"\"\n",
    "  for c in cols:\n",
    "    if len(c) == 0: continue\n",
    "    s += chr(c.pop())\n",
    "\n",
    "  return s"
   ]
  },
  {
   "cell_type": "code",
   "execution_count": 81,
   "metadata": {},
   "outputs": [
    {
     "data": {
      "text/plain": [
       "[[67], [77], [80, 68, 78, 90]]"
      ]
     },
     "execution_count": 81,
     "metadata": {},
     "output_type": "execute_result"
    }
   ],
   "source": [
    "[X, moves] = parse_file(\"example.txt\")\n",
    "run_moves(X, moves)"
   ]
  },
  {
   "cell_type": "code",
   "execution_count": 83,
   "metadata": {},
   "outputs": [
    {
     "data": {
      "text/plain": [
       "'CMZ'"
      ]
     },
     "execution_count": 83,
     "metadata": {},
     "output_type": "execute_result"
    }
   ],
   "source": [
    "get_answer(\"example.txt\")"
   ]
  },
  {
   "cell_type": "code",
   "execution_count": 86,
   "metadata": {},
   "outputs": [
    {
     "data": {
      "text/plain": [
       "'VRWBSFZWM'"
      ]
     },
     "execution_count": 86,
     "metadata": {},
     "output_type": "execute_result"
    }
   ],
   "source": [
    "get_answer(\"input.txt\")"
   ]
  },
  {
   "cell_type": "code",
   "execution_count": 90,
   "metadata": {},
   "outputs": [],
   "source": [
    "def run_moves_2(X, moves):\n",
    "  for move in moves:\n",
    "    apply_move_2(X, move)\n",
    "  return X"
   ]
  },
  {
   "cell_type": "code",
   "execution_count": 95,
   "metadata": {},
   "outputs": [],
   "source": [
    "def apply_move_2(X, move):\n",
    "  [n, from_stack, to_stack] = move\n",
    "  crates = []\n",
    "  for _ in range(n):\n",
    "    crates.append(X[from_stack - 1].pop())\n",
    "  crates.reverse()\n",
    "  X[to_stack - 1] = X[to_stack - 1] + crates\n",
    "\n",
    "  return X"
   ]
  },
  {
   "cell_type": "code",
   "execution_count": 96,
   "metadata": {},
   "outputs": [],
   "source": [
    "def get_answer_2(f):\n",
    "  stacks, moves = parse_file(f)\n",
    "  cols = run_moves_2(stacks, moves)\n",
    "  s = \"\"\n",
    "  for c in cols:\n",
    "    if len(c) == 0: continue\n",
    "    s += chr(c.pop())\n",
    "\n",
    "  return s"
   ]
  },
  {
   "cell_type": "code",
   "execution_count": 97,
   "metadata": {},
   "outputs": [
    {
     "data": {
      "text/plain": [
       "'MCD'"
      ]
     },
     "execution_count": 97,
     "metadata": {},
     "output_type": "execute_result"
    }
   ],
   "source": [
    "get_answer_2(\"example.txt\")"
   ]
  },
  {
   "cell_type": "code",
   "execution_count": 98,
   "metadata": {},
   "outputs": [
    {
     "data": {
      "text/plain": [
       "'RBTWJWMCF'"
      ]
     },
     "execution_count": 98,
     "metadata": {},
     "output_type": "execute_result"
    }
   ],
   "source": [
    "get_answer_2(\"input.txt\")"
   ]
  }
 ],
 "metadata": {
  "kernelspec": {
   "display_name": "Python 3.10.8 64-bit",
   "language": "python",
   "name": "python3"
  },
  "language_info": {
   "codemirror_mode": {
    "name": "ipython",
    "version": 3
   },
   "file_extension": ".py",
   "mimetype": "text/x-python",
   "name": "python",
   "nbconvert_exporter": "python",
   "pygments_lexer": "ipython3",
   "version": "3.10.8"
  },
  "orig_nbformat": 4,
  "vscode": {
   "interpreter": {
    "hash": "eda7e54fe21129b67f77862937907ee926f057597a3e2fa1e18ac955e40912b3"
   }
  }
 },
 "nbformat": 4,
 "nbformat_minor": 2
}
