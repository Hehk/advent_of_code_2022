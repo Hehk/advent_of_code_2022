{
 "cells": [
  {
   "cell_type": "code",
   "execution_count": 3,
   "metadata": {},
   "outputs": [],
   "source": [
    "import torch\n",
    "\n",
    "def load_file(f):\n",
    "  with open(f) as f:\n",
    "    return f.read().strip().splitlines()"
   ]
  },
  {
   "cell_type": "code",
   "execution_count": 4,
   "metadata": {},
   "outputs": [],
   "source": [
    "def parse_line(line):\n",
    "  if line == 'noop':\n",
    "    return dict(op='noop')\n",
    "  else:\n",
    "    [instruction, value] = line.split(' ')\n",
    "    return dict(op=instruction, value=int(value))\n",
    "\n",
    "def parse_file(content):\n",
    "  return [parse_line(line) for line in content]"
   ]
  },
  {
   "cell_type": "code",
   "execution_count": 5,
   "metadata": {},
   "outputs": [
    {
     "data": {
      "text/plain": [
       "[{'op': 'noop'}, {'op': 'addx', 'value': 3}, {'op': 'addx', 'value': -5}]"
      ]
     },
     "execution_count": 5,
     "metadata": {},
     "output_type": "execute_result"
    }
   ],
   "source": [
    "parse_file(load_file('example.txt'))"
   ]
  },
  {
   "cell_type": "code",
   "execution_count": 6,
   "metadata": {},
   "outputs": [],
   "source": [
    "def run_instruction (instruction, cycles):\n",
    "  op = instruction['op']\n",
    "  head = cycles[-1]\n",
    "  if op == 'noop':\n",
    "    cycles.append(head)\n",
    "    return cycles\n",
    "  elif op == 'addx':\n",
    "    cycles.append(head)\n",
    "    cycles.append(head + instruction['value'])\n",
    "    return cycles"
   ]
  },
  {
   "cell_type": "code",
   "execution_count": 7,
   "metadata": {},
   "outputs": [],
   "source": [
    "def run_file(file):\n",
    "  content = load_file(file)\n",
    "  instructions = parse_file(content)\n",
    "  cycles = [1]\n",
    "  for instruction in instructions:\n",
    "    cycles = run_instruction(instruction, cycles)\n",
    "  return torch.tensor(cycles)"
   ]
  },
  {
   "cell_type": "code",
   "execution_count": 8,
   "metadata": {},
   "outputs": [
    {
     "data": {
      "text/plain": [
       "tensor([ 1,  1,  1,  4,  4, -1])"
      ]
     },
     "execution_count": 8,
     "metadata": {},
     "output_type": "execute_result"
    }
   ],
   "source": [
    "run_file('example.txt')"
   ]
  },
  {
   "cell_type": "code",
   "execution_count": 9,
   "metadata": {},
   "outputs": [
    {
     "data": {
      "text/plain": [
       "tensor([21, 19, 18, 21, 16, 18])"
      ]
     },
     "execution_count": 9,
     "metadata": {},
     "output_type": "execute_result"
    }
   ],
   "source": [
    "run_file('example_long.txt')[torch.tensor([20,60,100,140,180,220]) - 1]"
   ]
  },
  {
   "cell_type": "code",
   "execution_count": 10,
   "metadata": {},
   "outputs": [],
   "source": [
    "def get_answer(file):\n",
    "  cycles = run_file(file)\n",
    "  signals_index = torch.tensor(range((cycles.shape[0] - 20) // 40 + 1)) * 40 + 20\n",
    "  # Adjust signals back one to fit array 0 index\n",
    "  signals = cycles[signals_index - 1]\n",
    "  strengths = signals_index * signals\n",
    "  return strengths.sum()"
   ]
  },
  {
   "cell_type": "code",
   "execution_count": 11,
   "metadata": {},
   "outputs": [
    {
     "data": {
      "text/plain": [
       "tensor(14920)"
      ]
     },
     "execution_count": 11,
     "metadata": {},
     "output_type": "execute_result"
    }
   ],
   "source": [
    "get_answer('input.txt')"
   ]
  },
  {
   "cell_type": "code",
   "execution_count": 12,
   "metadata": {},
   "outputs": [
    {
     "data": {
      "text/plain": [
       "tensor([ 20,  60, 100, 140, 180, 220])"
      ]
     },
     "execution_count": 12,
     "metadata": {},
     "output_type": "execute_result"
    }
   ],
   "source": [
    "torch.tensor(range((250 - 20) // 40 + 1)) * 40 + 20"
   ]
  },
  {
   "cell_type": "code",
   "execution_count": 27,
   "metadata": {},
   "outputs": [],
   "source": [
    "def render_crt(file):\n",
    "  cycles = run_file(file)\n",
    "  grid = []\n",
    "  for i in range(1, cycles.shape[0]):\n",
    "    point = cycles[i - 1]\n",
    "    col = (i % 40)\n",
    "    offset = col - point\n",
    "    is_valid = offset == 0 or offset == 1 or offset == 2\n",
    "    if (i > 8 and i < 12):\n",
    "      print(point, col)\n",
    "      print(offset, is_valid)\n",
    "\n",
    "    if is_valid:\n",
    "      grid.append(1)\n",
    "    else:\n",
    "      grid.append(0)\n",
    "      \n",
    "  return torch.tensor(grid).view(-1, 40)\n",
    "\n"
   ]
  },
  {
   "cell_type": "code",
   "execution_count": 17,
   "metadata": {},
   "outputs": [],
   "source": [
    "def print_grid(grid):\n",
    "  for row in grid:\n",
    "    for cell in row:\n",
    "      if cell == 1:\n",
    "        print('#', end='')\n",
    "      else:\n",
    "        print('.', end='')\n",
    "    print('')"
   ]
  },
  {
   "cell_type": "code",
   "execution_count": 29,
   "metadata": {},
   "outputs": [
    {
     "name": "stdout",
     "output_type": "stream",
     "text": [
      "tensor(7) 9\n",
      "tensor(2) tensor(True)\n",
      "tensor(7) 10\n",
      "tensor(3) tensor(False)\n",
      "tensor(12) 11\n",
      "tensor(-1) tensor(False)\n",
      "###..#..#..##...##...##..###..#..#.####.\n",
      "#..#.#..#.#..#.#..#.#..#.#..#.#..#....##\n",
      "###..#..#.#....#..#.#....###..#..#...#.#\n",
      "#..#.#..#.#....####.#....#..#.#..#..#..#\n",
      "#..#.#..#.#..#.#..#.#..#.#..#.#..#.#....\n",
      "###...##...##..#..#..##..###...##..####.\n"
     ]
    }
   ],
   "source": [
    "print_grid(render_crt(\"input.txt\"))"
   ]
  }
 ],
 "metadata": {
  "kernelspec": {
   "display_name": "Python 3",
   "language": "python",
   "name": "python3"
  },
  "language_info": {
   "codemirror_mode": {
    "name": "ipython",
    "version": 3
   },
   "file_extension": ".py",
   "mimetype": "text/x-python",
   "name": "python",
   "nbconvert_exporter": "python",
   "pygments_lexer": "ipython3",
   "version": "3.10.8"
  },
  "orig_nbformat": 4,
  "vscode": {
   "interpreter": {
    "hash": "eda7e54fe21129b67f77862937907ee926f057597a3e2fa1e18ac955e40912b3"
   }
  }
 },
 "nbformat": 4,
 "nbformat_minor": 2
}
